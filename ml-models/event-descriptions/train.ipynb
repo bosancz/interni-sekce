{
  "cells": [
    {
      "attachments": {},
      "cell_type": "markdown",
      "metadata": {
        "id": "H7LoMj4GA4n_"
      },
      "source": [
        "# Model pro automatické generování popisků akcí z názvu"
      ]
    },
    {
      "attachments": {},
      "cell_type": "markdown",
      "metadata": {
        "id": "0wXB05bPDYxS"
      },
      "source": [
        "## Stažení GPT-2\n",
        "\n",
        "Pokud rekvalifikujete model na novém textu, musíte si nejprve stáhnout model GPT-2.\n",
        "\n",
        "Existují tři uvolněné velikosti GPT-2:\n",
        "\n",
        "* `124m` (výchozí): „malý“ model, 500 MB na disku.\n",
        "* `355m`: Model „Střední“, 1,5 GB na disku.\n",
        "* `774m`:  „Velký“ model, v současné době nelze upravovat s Colaboratory, ale lze jej použít ke generování textu z předběžného modelu (viz dále v notebooku)\n",
        "* `1558M`: „Extra velký“ , skutečný model. Nebude fungovat, pokud je k notebooku připojen GPU K80/P4.(jako `774m`, nelze to finineturen).\n",
        "\n",
        "Větší modely mají více znalostí, ale trvá déle, než generují text, a déle.Můžete určit, který základní model použít změnou `model_name` v buňkách níže."
      ]
    },
    {
      "cell_type": "code",
      "execution_count": null,
      "metadata": {},
      "outputs": [],
      "source": [
        "import gpt_2_simple as gpt2"
      ]
    },
    {
      "cell_type": "code",
      "execution_count": null,
      "metadata": {
        "id": "P8wSlgXoDPCR"
      },
      "outputs": [],
      "source": [
        "gpt2.download_gpt2(model_name=\"124M\",model_dir=\"./models\")"
      ]
    },
    {
      "attachments": {},
      "cell_type": "markdown",
      "metadata": {},
      "source": [
        "## GPU\n",
        "\n",
        "Tohle je jenom pokud to spuštím na Google Collab. Což ale doporučuju, pokud nechcete čekat hodiny a smažit si na počítači vajíčka."
      ]
    },
    {
      "cell_type": "code",
      "execution_count": null,
      "metadata": {},
      "outputs": [],
      "source": [
        "!nvidia-smi"
      ]
    },
    {
      "attachments": {},
      "cell_type": "markdown",
      "metadata": {
        "id": "BT__brhBCvJu"
      },
      "source": [
        "## Data k trénování\n"
      ]
    },
    {
      "cell_type": "code",
      "execution_count": null,
      "metadata": {},
      "outputs": [],
      "source": [
        "import pandas as pd\n",
        "import numpy as np\n",
        "import re"
      ]
    },
    {
      "cell_type": "code",
      "execution_count": null,
      "metadata": {},
      "outputs": [],
      "source": [
        "gpt2.mount_gdrive()"
      ]
    },
    {
      "cell_type": "code",
      "execution_count": null,
      "metadata": {
        "id": "6OFnPCLADfll"
      },
      "outputs": [],
      "source": [
        "data_file = \"./data/data.txt\"\n",
        "\n",
        "df = pd.read_csv(\"./data/events.csv\")\n",
        "df.head(10)\n"
      ]
    },
    {
      "cell_type": "code",
      "execution_count": null,
      "metadata": {},
      "outputs": [],
      "source": [
        "\n",
        "with open(data_file, 'w', encoding=\"utf-8\") as f:\n",
        "  for index,row in df.iterrows():\n",
        "    \n",
        "    data = list()\n",
        "\n",
        "    if type(row[\"type\"]) == str:\n",
        "      data.append(row[\"type\"])\n",
        "\n",
        "    data.append(re.sub(\"\\r?\\n\",\"\",row[\"name\"]))\n",
        "    data.append(re.sub(\"\\r?\\n\",\"\",row[\"description\"]))\n",
        "\n",
        "    f.write(\"\\n\".join(data) + \"\\n\\n\")\n",
        "    \n"
      ]
    },
    {
      "attachments": {},
      "cell_type": "markdown",
      "metadata": {
        "id": "LdpZQXknFNY3"
      },
      "source": [
        "## Trénování GPT-2\n",
        "\n",
        "The next cell will start the actual finetuning of GPT-2. It creates a persistent TensorFlow session which stores the training config, then runs the training for the specified number of `steps`. (to have the finetuning run indefinitely, set `steps = -1`)\n",
        "\n",
        "The model checkpoints will be saved in `/checkpoint/run1` by default. The checkpoints are saved every 500 steps (can be changed) and when the cell is stopped.\n",
        "\n",
        "The training might time out after 4ish hours; make sure you end training and save the results so you don't lose them!\n",
        "\n",
        "**IMPORTANT NOTE:** If you want to rerun this cell, **restart the VM first** (Runtime -> Restart Runtime). You will need to rerun imports but not recopy files.\n",
        "\n",
        "Other optional-but-helpful parameters for `gpt2.finetune`:\n",
        "\n",
        "\n",
        "*  **`restore_from`**: Set to `fresh` to start training from the base GPT-2, or set to `latest` to restart training from an existing checkpoint.\n",
        "* **`sample_every`**: Number of steps to print example output\n",
        "* **`print_every`**: Number of steps to print training progress.\n",
        "* **`learning_rate`**:  Learning rate for the training. (default `1e-4`, can lower to `1e-5` if you have <1MB input data)\n",
        "*  **`run_name`**: subfolder within `checkpoint` to save the model. This is useful if you want to work with multiple models (will also need to specify  `run_name` when loading the model)\n",
        "* **`overwrite`**: Set to `True` if you want to continue finetuning an existing model (w/ `restore_from='latest'`) without creating duplicate copies. "
      ]
    },
    {
      "cell_type": "code",
      "execution_count": null,
      "metadata": {},
      "outputs": [],
      "source": [
        "import gpt_2_simple as gpt2"
      ]
    },
    {
      "cell_type": "code",
      "execution_count": null,
      "metadata": {
        "id": "aeXshJM-Cuaf"
      },
      "outputs": [],
      "source": [
        "sess = gpt2.start_tf_sess()\n",
        "\n",
        "gpt2.finetune(sess,\n",
        "              dataset=data_file,\n",
        "              model_name='124M',\n",
        "              learning_rate=1e-5,\n",
        "              steps=1000,\n",
        "              restore_from='fresh',\n",
        "              run_name='run',\n",
        "              print_every=10,\n",
        "              sample_every=200,\n",
        "              save_every=500,\n",
        "              model_dir='models'\n",
        "              )"
      ]
    },
    {
      "cell_type": "markdown",
      "metadata": {
        "id": "IXSuTNERaw6K"
      },
      "source": [
        "After the model is trained, you can copy the checkpoint folder to your own Google Drive.\n",
        "\n",
        "If you want to download it to your personal computer, it's strongly recommended you copy it there first, then download from Google Drive. The checkpoint folder is copied as a `.rar` compressed file; you can download it and uncompress it locally."
      ]
    },
    {
      "cell_type": "code",
      "execution_count": null,
      "metadata": {
        "id": "VHdTL8NDbAh3"
      },
      "outputs": [],
      "source": [
        "gpt2.copy_checkpoint"
      ]
    },
    {
      "cell_type": "markdown",
      "metadata": {
        "id": "qQJgV_b4bmzd"
      },
      "source": [
        "You're done! Feel free to go to the **Generate Text From The Trained Model** section to generate text based on your retrained model."
      ]
    },
    {
      "cell_type": "markdown",
      "metadata": {
        "id": "pel-uBULXO2L"
      },
      "source": [
        "## Load a Trained Model Checkpoint\n",
        "\n",
        "Running the next cell will copy the `.rar` checkpoint file from your Google Drive into the Colaboratory VM."
      ]
    },
    {
      "cell_type": "code",
      "execution_count": null,
      "metadata": {
        "id": "DCcx5u7sbPTD"
      },
      "outputs": [],
      "source": [
        "gpt2.copy_checkpoint_from_gdrive(run_name='run2')"
      ]
    },
    {
      "cell_type": "markdown",
      "metadata": {
        "id": "RTa6zf3e_9gV"
      },
      "source": [
        "The next cell will allow you to load the retrained model checkpoint + metadata necessary to generate text.\n",
        "\n",
        "**IMPORTANT NOTE:** If you want to rerun this cell, **restart the VM first** (Runtime -> Restart Runtime). You will need to rerun imports but not recopy files."
      ]
    },
    {
      "cell_type": "code",
      "execution_count": null,
      "metadata": {
        "colab": {
          "base_uri": "https://localhost:8080/"
        },
        "id": "-fxL77nvAMAX",
        "outputId": "3853c6b3-45ff-477f-e5e7-c02300fa5e24"
      },
      "outputs": [],
      "source": [
        "sess = gpt2.start_tf_sess()\n",
        "gpt2.load_gpt2(sess, run_name='run')"
      ]
    },
    {
      "cell_type": "markdown",
      "metadata": {
        "id": "ClJwpF_ACONp"
      },
      "source": [
        "## Generate Text From The Trained Model\n",
        "\n",
        "After you've trained the model or loaded a retrained model from checkpoint, you can now generate text. `generate` generates a single text from the loaded model."
      ]
    },
    {
      "cell_type": "code",
      "execution_count": null,
      "metadata": {
        "id": "4RNY6RBI9LmL"
      },
      "outputs": [],
      "source": [
        "gpt2.generate(sess,\n",
        "    length=100,\n",
        "    temperature=0.7,\n",
        "    prefix=\"you run\",\n",
        "    nsamples=5,\n",
        "    truncate='<|endoftext|>',\n",
        "    batch_size=5,\n",
        "    run_name='run')"
      ]
    },
    {
      "cell_type": "markdown",
      "metadata": {
        "id": "oF4-PqF0Fl7R"
      },
      "source": [
        "If you're creating an API based on your model and need to pass the generated text elsewhere, you can do `text = gpt2.generate(sess, return_as_list=True)[0]`\n",
        "\n",
        "You can also pass in a `prefix` to the generate function to force the text to start with a given character sequence and generate text from there (good if you add an indicator when the text starts).\n",
        "\n",
        "You can also generate multiple texts at a time by specifing `nsamples`. Unique to GPT-2, you can pass a `batch_size` to generate multiple samples in parallel, giving a massive speedup (in Colaboratory, set a maximum of 20 for `batch_size`).\n",
        "\n",
        "Other optional-but-helpful parameters for `gpt2.generate` and friends:\n",
        "\n",
        "*  **`length`**: Number of tokens to generate (default 1023, the maximum)\n",
        "* **`temperature`**: The higher the temperature, the crazier the text (default 0.7, recommended to keep between 0.7 and 1.0)\n",
        "* **`top_k`**: Limits the generated guesses to the top *k* guesses (default 0 which disables the behavior; if the generated output is super crazy, you may want to set `top_k=40`)\n",
        "* **`top_p`**: Nucleus sampling: limits the generated guesses to a cumulative probability. (gets good results on a dataset with `top_p=0.9`)\n",
        "* **`truncate`**: Truncates the input text until a given sequence, excluding that sequence (e.g. if `truncate='<|endoftext|>'`, the returned text will include everything before the first `<|endoftext|>`). It may be useful to combine this with a smaller `length` if the input texts are short.\n",
        "*  **`include_prefix`**: If using `truncate` and `include_prefix=False`, the specified `prefix` will not be included in the returned text."
      ]
    },
    {
      "cell_type": "code",
      "execution_count": null,
      "metadata": {
        "id": "8DKMc0fiej4N"
      },
      "outputs": [],
      "source": [
        "gpt2.generate(sess,\n",
        "              length=100,\n",
        "              temperature=0.7,\n",
        "              prefix=\"Stepping back\",\n",
        "              nsamples=5,\n",
        "              batch_size=5\n",
        "              )"
      ]
    },
    {
      "cell_type": "markdown",
      "metadata": {
        "id": "GGR5fQUOhuD_"
      },
      "source": [
        "# Converting to a TensorFlow JS Model\n",
        "\n",
        "Tensorflow js enables you to run a model directly in the browser. Most models you create with Tensorflow js will be pretty small, the one I generated was about 500MB which is pretty large. This may be possible to shrink with some understanding of the transformer.\n",
        "\n",
        "You could also use a tensorflow js model in nodejs. This can enable you to run the model in react native or other environments in which you can't run a python model.\n",
        "\n",
        "The transformer I used was made by [huggingface](https://huggingface.co/transformers/). It is built to transform PyTorch models to Tensorflow models and back. It can also convert the checkpoint we created into a pytorch model.\n",
        "\n",
        "However, you must be using a newer version of tensorflow ([2.1+](https://github.com/tensorflow/tfjs/issues/3582)) than the rest of this Colabatory above. As a result, first thing is first, we need to restart the runtime, `Runtime > Restart runtime` in the menu. After you do that, come back here and reinstall gpt2 and We then need to install the transformers and a new version of tensorflow js."
      ]
    },
    {
      "cell_type": "code",
      "execution_count": null,
      "metadata": {
        "id": "8ef19G-RCC_6"
      },
      "outputs": [],
      "source": [
        "# Install the hugging face transformers\n",
        "!pip install -q git+https://github.com/huggingface/transformers.git\n",
        "!pip install tensorflow tensorflowjs\n",
        "\n",
        "#Re install gpt2 and reimport missing imports\n",
        "from google.colab import files\n",
        "from google.colab import drive\n",
        "drive.mount('/content/drive') "
      ]
    },
    {
      "cell_type": "markdown",
      "metadata": {
        "id": "NRZcdR41h5jz"
      },
      "source": [
        "Now that we have these all installed were ready to turn the model we have trained into a pytorch model. I based these steps on [this answer from apeguero1](https://github.com/minimaxir/gpt-2-simple/issues/178#issuecomment-599067273)."
      ]
    },
    {
      "cell_type": "code",
      "execution_count": null,
      "metadata": {
        "id": "zhQnbRCsKE9f"
      },
      "outputs": [],
      "source": [
        "from transformers import GPT2Config, GPT2Model\n",
        "index_path = '/content/checkpoint/run2/model-1000.index'\n",
        "config = GPT2Config.from_pretrained('gpt2')\n",
        "model = GPT2Model.from_pretrained(index_path,from_tf=True,config=config)\n",
        "model.save_pretrained(save_directory=\"./hfModelrun\")"
      ]
    },
    {
      "cell_type": "markdown",
      "metadata": {
        "id": "Dedt9TcEh4Gk"
      },
      "source": [
        "Then we convert the pytorch model into a tensorflow (non-js) model. this and the next step are based on [this Stack Overflow post](https://stackoverflow.com/questions/62677651/openai-gpt-2-model-use-with-tensorflow-js) with the change being to use the model we created in the previous step instead of the original GPT2 model."
      ]
    },
    {
      "cell_type": "code",
      "execution_count": null,
      "metadata": {
        "id": "L9lz-LqYTXW0"
      },
      "outputs": [],
      "source": [
        "from transformers import TFGPT2LMHeadModel, GPT2Tokenizer\n",
        "import tensorflowjs\n",
        "tokenizer = GPT2Tokenizer.from_pretrained(\"gpt2\")\n",
        "# add the EOS token as PAD token to avoid warnings\n",
        "model = TFGPT2LMHeadModel.from_pretrained(pretrained_model_name_or_path=\"/content/hfModelrun\", from_pt=True, pad_token_id=tokenizer.eos_token_id)\n",
        "model.save(\"./run_tensorflowOutput\")"
      ]
    },
    {
      "cell_type": "markdown",
      "metadata": {
        "id": "TXj1lDNeh6uQ"
      },
      "source": [
        "And now, it is time to create our Tensorflow js model! We are going to use the same steps from [the SO post in the previous step](https://stackoverflow.com/questions/62677651/openai-gpt-2-model-use-with-tensorflow-js) to generate the model. Here is [a page describing the files](https://www.tensorflow.org/js/tutorials/conversion/import_saved_model) you will find in the `web_model` folder.\n",
        "Next, we will export this model from drive and see how to use this in the browser."
      ]
    },
    {
      "cell_type": "code",
      "execution_count": null,
      "metadata": {
        "id": "BmUWbpAtEqsm"
      },
      "outputs": [],
      "source": [
        "!tensorflowjs_converter \\\n",
        "    --input_format=tf_saved_model \\\n",
        "    --output_node_names='gpt2' \\\n",
        "    --saved_model_tags=serve \\\n",
        "    /content/run_tensorflowOutput \\\n",
        "    /content/run_tensorflowOutput_web_model"
      ]
    },
    {
      "cell_type": "markdown",
      "metadata": {
        "id": "MrEoaHTBryH-"
      },
      "source": [
        "We now need to copy our file to drive, download it to our machine and add it to our web application. Because the model was so large (500MB with either the medium or small gpt2 datasets) I ended up testing the model locally instead of adding it to my application. This is easiest to do on a recent version of Firefox. The large size should also be a consideration when copying files to drive.\n",
        "\n",
        "First, copy the file to your google drive, I just drag and droped the folder over to \"drive > My Drive\" in the left panel."
      ]
    },
    {
      "cell_type": "markdown",
      "metadata": {
        "id": "hvjmObWhtoxJ"
      },
      "source": [
        "Then go to your google drive and download the model (it could take a while if you have a slow connection).\n",
        "\n",
        "At that point you can add it to your website and use it. The code below is based on [an example provided by google](https://www.tensorflow.org/js/tutorials/conversion/import_saved_model#step_2_loading_and_running_in_the_browser) as well as a rudimentary understanding of Tensorflow model.\n",
        "\n",
        "```html\n",
        "<html>\n",
        "<head>\n",
        "<script src=\"https://unpkg.com/@tensorflow/tfjs\"></script>\n",
        "</head>\n",
        "<body>\n",
        "    <script>\n",
        "    async function run() {\n",
        "        // Load up our model\n",
        "        // https://js.tensorflow.org/api/1.0.0/#loadGraphModel\n",
        "        const model = await tf.loadGraphModel('run_tensorflowOutput_web_model/model.json');\n",
        "        // This was the shape and dtype I needed to provide... I have no idea what it means.\n",
        "        input = tf.tensor([70,1,1,1,1], [1,5], 'int32');\n",
        "        // I also tried execute and got the same result.\n",
        "        const predictions = model.predict(input, [1,1]);\n",
        "        // Similarly I have no idea what the massive array of floats returned mean\n",
        "        console.log(predictions[0].dataSync());\n",
        "    }\n",
        "    run();\n",
        "    </script>\n",
        "</body>\n",
        "</html>\n",
        "```\n",
        "If you want to run this locally I recommend using firefox as it is the easiest browser to enable filesystem loading. **This is not a setting you want to leave on!**. In short you will have to navigate to `about:config` in the address bar and temporarily set the `privacy.file_unique_origin` flag to false.\n",
        "\n",
        "Then open the console, reload the page and wait for a FloatArray to print. That is as far as I got, hopefully someone can take this another step forward :)\n",
        "\n",
        "If you want more detailed steps with pictures you can check out [the blog post](https://blog.fbalashov.com/2021/02/a-gpt-2-model-on-browser-close-but-no.html) that accompanies this colabatory.\n",
        "\n",
        "### Important Note\n",
        "If you do decide to deploy this on a website **prompt your user before downloading the model**. Many may not want to load a 500MB model in case their connection is slow or they are on a metered connection. Unfortunatley [the api to check if a user is on a metered connection](https://developer.mozilla.org/en-US/docs/Web/API/Navigator/connection) isn't supported on IOS yet so you need to fall back to a user prompt. \n",
        "\n",
        "\n",
        "### Other Resources\n",
        "* [The page from google on Tensors](https://js.tensorflow.org/api/latest/).\n",
        "* [HuggingFace's page on GPT2 models](https://huggingface.co/transformers/model_doc/gpt2.html)\n",
        "* [Someone built logic to use a Bert model in TFjs which takes string args](https://github.com/tensorflow/tfjs-models/blob/master/qna/src/question_and_answer.ts). The process they use to tokenize args, and interpret results could be applicable!\n",
        "* [An example covering tokenization for a Bert model from HuggingFace](https://blog.tensorflow.org/2020/05/how-hugging-face-achieved-2x-performance-boost-question-answering.html). \n",
        "\n",
        "---"
      ]
    },
    {
      "cell_type": "markdown",
      "metadata": {
        "id": "QQAN3M6RT7Kj"
      },
      "source": [
        "## Generate Text From The Pretrained Model\n",
        "\n",
        "If you want to generate text from the pretrained model, not a finetuned model, pass `model_name` to `gpt2.load_gpt2()` and `gpt2.generate()`.\n",
        "\n",
        "This is currently the only way to generate text from the 774M or 1558M models with this notebook."
      ]
    },
    {
      "cell_type": "code",
      "execution_count": null,
      "metadata": {
        "colab": {
          "base_uri": "https://localhost:8080/",
          "height": 158
        },
        "id": "hsUd_jHgUZnD",
        "outputId": "4e0c8a3f-3527-41c4-e3fe-3357f3f8f6c2"
      },
      "outputs": [],
      "source": [
        "model_name = \"774M\"\n",
        "\n",
        "gpt2.download_gpt2(model_name=model_name)"
      ]
    },
    {
      "cell_type": "code",
      "execution_count": null,
      "metadata": {
        "colab": {
          "base_uri": "https://localhost:8080/",
          "height": 124
        },
        "id": "BAe4NpKNUj2C",
        "outputId": "b09bfe1d-2ff8-4b8a-fffb-273d28d5d4ae"
      },
      "outputs": [],
      "source": [
        "sess = gpt2.start_tf_sess()\n",
        "\n",
        "gpt2.load_gpt2(sess, model_name=model_name)"
      ]
    },
    {
      "cell_type": "code",
      "execution_count": null,
      "metadata": {
        "id": "-xInIZKaU104"
      },
      "outputs": [],
      "source": [
        "gpt2.generate(sess,\n",
        "              model_name=model_name,\n",
        "              prefix=\"The secret of life is\",\n",
        "              length=100,\n",
        "              temperature=0.7,\n",
        "              top_p=0.9,\n",
        "              nsamples=5,\n",
        "              batch_size=5\n",
        "              )"
      ]
    },
    {
      "cell_type": "markdown",
      "metadata": {
        "id": "ig-KVgkCDCKD"
      },
      "source": [
        "# Etcetera\n",
        "\n",
        "If the notebook has errors (e.g. GPU Sync Fail), force-kill the Colaboratory virtual machine and restart it with the command below:"
      ]
    },
    {
      "cell_type": "code",
      "execution_count": null,
      "metadata": {
        "id": "rIHiVP53FnsX"
      },
      "outputs": [],
      "source": [
        "!kill -9 -1"
      ]
    },
    {
      "cell_type": "markdown",
      "metadata": {
        "id": "wmTXWNUygS5E"
      },
      "source": [
        "# LICENSE\n",
        "\n",
        "MIT License\n",
        "\n",
        "Copyright (c) 2021 Fuad Balashov\n",
        "\n",
        "Permission is hereby granted, free of charge, to any person obtaining a copy\n",
        "of this software and associated documentation files (the \"Software\"), to deal\n",
        "in the Software without restriction, including without limitation the rights\n",
        "to use, copy, modify, merge, publish, distribute, sublicense, and/or sell\n",
        "copies of the Software, and to permit persons to whom the Software is\n",
        "furnished to do so, subject to the following conditions:\n",
        "\n",
        "The above copyright notice and this permission notice shall be included in all\n",
        "copies or substantial portions of the Software.\n",
        "\n",
        "THE SOFTWARE IS PROVIDED \"AS IS\", WITHOUT WARRANTY OF ANY KIND, EXPRESS OR\n",
        "IMPLIED, INCLUDING BUT NOT LIMITED TO THE WARRANTIES OF MERCHANTABILITY,\n",
        "FITNESS FOR A PARTICULAR PURPOSE AND NONINFRINGEMENT. IN NO EVENT SHALL THE\n",
        "AUTHORS OR COPYRIGHT HOLDERS BE LIABLE FOR ANY CLAIM, DAMAGES OR OTHER\n",
        "LIABILITY, WHETHER IN AN ACTION OF CONTRACT, TORT OR OTHERWISE, ARISING FROM,\n",
        "OUT OF OR IN CONNECTION WITH THE SOFTWARE OR THE USE OR OTHER DEALINGS IN THE\n",
        "SOFTWARE."
      ]
    }
  ],
  "metadata": {
    "accelerator": "GPU",
    "colab": {
      "provenance": [],
      "toc_visible": true
    },
    "kernelspec": {
      "display_name": "bo-machine-learning",
      "language": "python",
      "name": "python3"
    },
    "language_info": {
      "codemirror_mode": {
        "name": "ipython",
        "version": 3
      },
      "file_extension": ".py",
      "mimetype": "text/x-python",
      "name": "python",
      "nbconvert_exporter": "python",
      "pygments_lexer": "ipython3",
      "version": "3.10.9"
    },
    "vscode": {
      "interpreter": {
        "hash": "15a1379d0bc07c04ed716d8bcb01eeabc86ca9cf5c9d92f1e1b5f0433d167322"
      }
    }
  },
  "nbformat": 4,
  "nbformat_minor": 0
}
